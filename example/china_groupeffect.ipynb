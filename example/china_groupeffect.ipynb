{
 "nbformat": 4,
 "nbformat_minor": 2,
 "metadata": {
  "language_info": {
   "name": "python",
   "codemirror_mode": {
    "name": "ipython",
    "version": 3
   },
   "version": "3.8.2-final"
  },
  "orig_nbformat": 2,
  "file_extension": ".py",
  "mimetype": "text/x-python",
  "name": "python",
  "npconvert_exporter": "python",
  "pygments_lexer": "ipython3",
  "version": 3,
  "kernelspec": {
   "name": "python38264bitenvvenva471a6ac92af41d4a1e3918ed873c20c",
   "display_name": "Python 3.8.2 64-bit ('env': venv)"
  }
 },
 "cells": [
  {
   "cell_type": "code",
   "execution_count": 13,
   "metadata": {},
   "outputs": [],
   "source": [
    "from IPython.core.interactiveshell import InteractiveShell\n",
    "InteractiveShell.ast_node_interactivity = \"all\""
   ]
  },
  {
   "cell_type": "code",
   "execution_count": 14,
   "metadata": {},
   "outputs": [],
   "source": [
    "#%%\n",
    "import numpy as np \n",
    "import pandas as pd \n",
    "\n",
    "import sys\n",
    "import pandas\n",
    "import numpy\n",
    "import scipy as sp\n",
    "import scipy\n",
    "import pdb\n",
    "\n",
    "import curvefit\n",
    "from curvefit.core.model import CurveModel\n",
    "\n"
   ]
  },
  {
   "cell_type": "code",
   "execution_count": 58,
   "metadata": {},
   "outputs": [],
   "source": [
    "# model for the mean of the data\n",
    "def generalized_error_function(t, params) :\n",
    "    alpha = params[0]\n",
    "    beta  = params[1]\n",
    "    p     = params[2]\n",
    "    return 0.5 * p * ( 1.0 + scipy.special.erf( alpha * ( t - beta ) ) )\n",
    "#\n",
    "# link function used for beta\n",
    "def identity_fun(x) :\n",
    "    return x\n",
    "#\n",
    "# link function used for alpha, p\n",
    "def exp_fun(x) :\n",
    "    return numpy.exp(x)\n",
    "#\n",
    "# inverse of function used for alpha, p\n",
    "def log_fun(x) :\n",
    "    return numpy.log(x)"
   ]
  },
  {
   "cell_type": "code",
   "execution_count": 65,
   "metadata": {},
   "outputs": [
    {
     "output_type": "execute_result",
     "data": {
      "text/plain": "  province Country/Region      Lat      Long        date  value  population  \\\n0    Anhui          China  31.8257  117.2264  2020-02-10      3    59500510   \n1    Anhui          China  31.8257  117.2264  2020-02-11      4    59500510   \n2    Anhui          China  31.8257  117.2264  2020-02-12      4    59500510   \n3    Anhui          China  31.8257  117.2264  2020-02-13      5    59500510   \n4    Anhui          China  31.8257  117.2264  2020-02-14      6    59500510   \n\n   death_rate  day  social_dist  one  death_rate_std  \n0    0.000640    0            0    1            0.01  \n1    0.000853    1            0    1            0.01  \n2    0.000853    2            0    1            0.01  \n3    0.001066    3            0    1            0.01  \n4    0.001279    4            0    1            0.01  ",
      "text/html": "<div>\n<style scoped>\n    .dataframe tbody tr th:only-of-type {\n        vertical-align: middle;\n    }\n\n    .dataframe tbody tr th {\n        vertical-align: top;\n    }\n\n    .dataframe thead th {\n        text-align: right;\n    }\n</style>\n<table border=\"1\" class=\"dataframe\">\n  <thead>\n    <tr style=\"text-align: right;\">\n      <th></th>\n      <th>province</th>\n      <th>Country/Region</th>\n      <th>Lat</th>\n      <th>Long</th>\n      <th>date</th>\n      <th>value</th>\n      <th>population</th>\n      <th>death_rate</th>\n      <th>day</th>\n      <th>social_dist</th>\n      <th>one</th>\n      <th>death_rate_std</th>\n    </tr>\n  </thead>\n  <tbody>\n    <tr>\n      <th>0</th>\n      <td>Anhui</td>\n      <td>China</td>\n      <td>31.8257</td>\n      <td>117.2264</td>\n      <td>2020-02-10</td>\n      <td>3</td>\n      <td>59500510</td>\n      <td>0.000640</td>\n      <td>0</td>\n      <td>0</td>\n      <td>1</td>\n      <td>0.01</td>\n    </tr>\n    <tr>\n      <th>1</th>\n      <td>Anhui</td>\n      <td>China</td>\n      <td>31.8257</td>\n      <td>117.2264</td>\n      <td>2020-02-11</td>\n      <td>4</td>\n      <td>59500510</td>\n      <td>0.000853</td>\n      <td>1</td>\n      <td>0</td>\n      <td>1</td>\n      <td>0.01</td>\n    </tr>\n    <tr>\n      <th>2</th>\n      <td>Anhui</td>\n      <td>China</td>\n      <td>31.8257</td>\n      <td>117.2264</td>\n      <td>2020-02-12</td>\n      <td>4</td>\n      <td>59500510</td>\n      <td>0.000853</td>\n      <td>2</td>\n      <td>0</td>\n      <td>1</td>\n      <td>0.01</td>\n    </tr>\n    <tr>\n      <th>3</th>\n      <td>Anhui</td>\n      <td>China</td>\n      <td>31.8257</td>\n      <td>117.2264</td>\n      <td>2020-02-13</td>\n      <td>5</td>\n      <td>59500510</td>\n      <td>0.001066</td>\n      <td>3</td>\n      <td>0</td>\n      <td>1</td>\n      <td>0.01</td>\n    </tr>\n    <tr>\n      <th>4</th>\n      <td>Anhui</td>\n      <td>China</td>\n      <td>31.8257</td>\n      <td>117.2264</td>\n      <td>2020-02-14</td>\n      <td>6</td>\n      <td>59500510</td>\n      <td>0.001279</td>\n      <td>4</td>\n      <td>0</td>\n      <td>1</td>\n      <td>0.01</td>\n    </tr>\n  </tbody>\n</table>\n</div>"
     },
     "metadata": {},
     "execution_count": 65
    },
    {
     "output_type": "execute_result",
     "data": {
      "text/plain": "1.0"
     },
     "metadata": {},
     "execution_count": 65
    },
    {
     "output_type": "execute_result",
     "data": {
      "text/plain": "Index(['province', 'Country/Region', 'Lat', 'Long', 'date', 'value',\n       'population', 'death_rate', 'day', 'social_dist', 'one',\n       'death_rate_std'],\n      dtype='object')"
     },
     "metadata": {},
     "execution_count": 65
    }
   ],
   "source": [
    "\n",
    "\n",
    "#   %% china death rate\n",
    "# china_death_rate = pd.read_csv('G:/My Drive/Dev/covid19/death_rate/covid19_china_death_rate.csv')\n",
    "china_death_rate = pd.read_csv('G:/My Drive/Dev/covid19/death_rate/covid19_china_death_v02.csv')\n",
    "china_death_rate['death_rate'] = china_death_rate['death_rate']/np.max(china_death_rate['death_rate'])\n",
    "china_death_rate['death_rate_std'] = 0.01\n",
    "\n",
    "china_death_rate.head()\n",
    "np.max(china_death_rate['death_rate'])\n",
    "china_death_rate.columns\n",
    "\n",
    "\n",
    "hubei = china_death_rate.query('(province in \"Hubei\")')"
   ]
  },
  {
   "cell_type": "code",
   "execution_count": 66,
   "metadata": {},
   "outputs": [],
   "source": [
    "# ------------------------------------------------------------------------\n",
    "#%% curve_model - random effect + covarite model\n",
    "num_fe = 4\n",
    "data_frame   = china_death_rate\n",
    "col_t        = 'day'\n",
    "col_obs      = 'death_rate'\n",
    "col_covs     = [ ['one'], ['one', 'social_dist'], ['one'] ]\n",
    "col_group    = 'province'\n",
    "param_names  = [ 'alpha', 'beta',       'p'     ]\n",
    "link_fun     = [ exp_fun, identity_fun, exp_fun ]\n",
    "var_link_fun = num_fe * [ identity_fun ]\n",
    "fun          = generalized_error_function\n",
    "col_obs_se   = 'death_rate_std'\n",
    "#\n",
    "curve_model = curvefit.core.model.CurveModel(\n",
    "    data_frame,\n",
    "    col_t,\n",
    "    col_obs,\n",
    "    col_covs,\n",
    "    col_group,\n",
    "    param_names,\n",
    "    link_fun,\n",
    "    var_link_fun,\n",
    "    fun\n",
    ")\n",
    "self = curve_model"
   ]
  },
  {
   "cell_type": "code",
   "execution_count": 78,
   "metadata": {},
   "outputs": [],
   "source": [
    "\n",
    "\n",
    "\n",
    "# -------------------------------------------------------------------------\n",
    "#%% fit_params\n",
    "#\n",
    "num_group = len(np.unique(china_death_rate['province']))\n",
    "# fe_init   = fe_true / 3.0\n",
    "fe_init = np.array([1,15,0.2,3],dtype = \"float\") # for alpha, beta, social_distance_fator, p\n",
    "\n",
    "\n",
    "# re_init   = numpy.zeros( num_fe )\n",
    "num_fe = len(fe_init)\n",
    "re_init = np.ones(num_fe * num_group)\n",
    "fe_bounds = [ [-numpy.inf, numpy.inf] ] * num_fe\n",
    "# re_bounds = [ [0.0, 0.0] ] * num_fe\n",
    "re_bounds = [[-np.inf, np.inf]] * num_fe\n",
    "options   = {\n",
    "    'ftol' : 1e-12,\n",
    "    'gtol' : 1e-12,\n",
    "}\n",
    "\n",
    "# -------------------------------------------------------------------------\n",
    "\n",
    ""
   ]
  },
  {
   "cell_type": "code",
   "execution_count": 79,
   "metadata": {},
   "outputs": [
    {
     "output_type": "execute_result",
     "data": {
      "text/plain": "array([ 1. , 15. ,  0.2,  3. ])"
     },
     "metadata": {},
     "execution_count": 79
    }
   ],
   "source": [
    "fe_init"
   ]
  },
  {
   "cell_type": "code",
   "execution_count": 80,
   "metadata": {},
   "outputs": [
    {
     "output_type": "execute_result",
     "data": {
      "text/plain": "      fun: 1200.2533929937565\n hess_inv: <100x100 LbfgsInvHessProduct with dtype=float64>\n      jac: array([-3.94068043e-05,  3.41196070e-04,  0.00000000e+00,  3.44815407e-04,\n       -5.53664516e-06,  2.81934604e-05,  0.00000000e+00,  2.70092168e-04,\n       -2.96296218e-07, -1.48812925e-05,  0.00000000e+00,  2.62600814e-05,\n        6.26881355e-07, -6.09636498e-06,  0.00000000e+00, -3.24530489e-04,\n       -7.38176046e-06,  4.14265833e-05,  0.00000000e+00, -1.95128961e-04,\n        5.73454533e-06, -4.04113590e-05,  0.00000000e+00, -2.68816278e-04,\n       -6.65576405e-06,  4.89833073e-05,  0.00000000e+00,  7.85405880e-05,\n       -6.60797783e-06,  4.31677229e-05,  0.00000000e+00,  2.18822401e-04,\n        1.36160770e-06, -2.16731993e-05,  0.00000000e+00, -3.42007656e-04,\n       -7.11552893e-06,  3.88957806e-05,  0.00000000e+00, -1.56514496e-04,\n        1.99983442e-05, -1.74364487e-04,  0.00000000e+00,  1.29267327e-03,\n       -4.68306517e-06,  3.95863451e-05,  0.00000000e+00, -4.47292666e-04,\n        8.68893152e-06, -3.43456952e-04,  0.00000000e+00,  1.23940975e-03,\n        2.50384001e-05,  3.52243877e-04,  0.00000000e+00, -9.78986248e-04,\n       -6.95175937e-06,  4.35087585e-05,  0.00000000e+00,  1.08308818e-04,\n       -8.63309785e-06,  7.31287707e-05,  0.00000000e+00,  9.56397856e-06,\n       -6.15579039e-06,  4.89731639e-05,  0.00000000e+00, -1.73465984e-05,\n       -1.19642563e-05,  1.22878063e-04,  0.00000000e+00,  2.93733773e-04,\n       -6.24369448e-06,  3.54762777e-05,  0.00000000e+00,  2.20945963e-04,\n        5.89034407e-06, -4.38542034e-05,  0.00000000e+00, -4.57038539e-05,\n       -5.45383327e-06, -7.96036002e-05,  0.00000000e+00, -2.10590382e-04,\n       -6.80155041e-06,  5.50607715e-05,  0.00000000e+00, -3.28815513e-05,\n       -3.25289130e-06,  1.29803173e-05,  0.00000000e+00,  1.05686358e-04,\n       -5.68677977e-06,  2.60329176e-05,  0.00000000e+00, -5.11677487e-04,\n       -7.32516767e-06,  5.50014109e-05,  0.00000000e+00,  1.22549208e-05])\n  message: b'CONVERGENCE: REL_REDUCTION_OF_F_<=_FACTR*EPSMCH'\n     nfev: 1332\n      nit: 1166\n   status: 0\n  success: True\n        x: array([ 0.92652416, 14.88840913,  0.2       , -6.93587264,  1.00563099,\n        0.91521039,  1.        ,  0.27755117,  0.98861282,  1.13150152,\n        1.        ,  1.54896011,  0.99081772,  1.00876216,  1.        ,\n        0.99230523,  1.00481225,  0.93340189,  1.        ,  0.01767373,\n        1.00116185,  0.96968658,  1.        , -0.01634059,  1.00259848,\n        0.97571266,  1.        , -0.56137698,  1.00360394,  0.95851405,\n        1.        , -0.30674523,  0.96733918,  1.04876638,  1.        ,\n        2.05415227,  1.00504992,  0.92865254,  1.        ,  0.08398735,\n        0.986044  ,  0.99689811,  1.        ,  1.47173987,  0.98981498,\n        0.99329086,  1.        ,  1.10386984,  0.97773096,  1.08629241,\n        1.        ,  1.83022508,  0.97546229,  1.18267344,  1.        ,\n        6.45598977,  1.00393569,  0.95181248,  1.        , -0.22547179,\n        1.00175007,  0.9935375 ,  1.        , -0.63402085,  1.00196265,\n        0.98589365,  1.        , -0.74375432,  1.0008285 ,  1.01422397,\n        1.        , -0.45907425,  1.00483632,  0.93559454,  1.        ,\n        0.05733468,  1.00104712,  0.97727435,  1.        , -0.10993579,\n        0.99569175,  1.18010326,  1.        ,  0.82165135,  1.00191249,\n        0.98806281,  1.        , -0.72062809,  1.00701099,  0.86098903,\n        1.        ,  1.10731953,  1.006371  ,  0.89314514,  1.        ,\n        0.58207323,  1.00249819,  0.97840942,  1.        , -0.56335796])"
     },
     "metadata": {},
     "execution_count": 80
    },
    {
     "output_type": "execute_result",
     "data": {
      "text/plain": "array([ 0.92652416, 14.88840913,  0.2       , -6.93587264])"
     },
     "metadata": {},
     "execution_count": 80
    }
   ],
   "source": [
    "#\n",
    "curve_model.fit_params(\n",
    "    fe_init,\n",
    "    re_init,\n",
    "    fe_bounds,\n",
    "    re_bounds,\n",
    "    options=options\n",
    ")\n",
    "fe_estimate = curve_model.result.x[:num_fe]\n",
    "curve_model.result\n",
    "fe_estimate"
   ]
  },
  {
   "cell_type": "code",
   "execution_count": 73,
   "metadata": {},
   "outputs": [
    {
     "output_type": "execute_result",
     "data": {
      "text/plain": "  province Country/Region      Lat      Long        date  value  population  \\\n0    Anhui          China  31.8257  117.2264  2020-02-10      3    59500510   \n1    Anhui          China  31.8257  117.2264  2020-02-11      4    59500510   \n2    Anhui          China  31.8257  117.2264  2020-02-12      4    59500510   \n3    Anhui          China  31.8257  117.2264  2020-02-13      5    59500510   \n4    Anhui          China  31.8257  117.2264  2020-02-14      6    59500510   \n\n   death_rate  day  social_dist  one  death_rate_std  \n0    0.000640    0            0    1            0.01  \n1    0.000853    1            0    1            0.01  \n2    0.000853    2            0    1            0.01  \n3    0.001066    3            0    1            0.01  \n4    0.001279    4            0    1            0.01  ",
      "text/html": "<div>\n<style scoped>\n    .dataframe tbody tr th:only-of-type {\n        vertical-align: middle;\n    }\n\n    .dataframe tbody tr th {\n        vertical-align: top;\n    }\n\n    .dataframe thead th {\n        text-align: right;\n    }\n</style>\n<table border=\"1\" class=\"dataframe\">\n  <thead>\n    <tr style=\"text-align: right;\">\n      <th></th>\n      <th>province</th>\n      <th>Country/Region</th>\n      <th>Lat</th>\n      <th>Long</th>\n      <th>date</th>\n      <th>value</th>\n      <th>population</th>\n      <th>death_rate</th>\n      <th>day</th>\n      <th>social_dist</th>\n      <th>one</th>\n      <th>death_rate_std</th>\n    </tr>\n  </thead>\n  <tbody>\n    <tr>\n      <th>0</th>\n      <td>Anhui</td>\n      <td>China</td>\n      <td>31.8257</td>\n      <td>117.2264</td>\n      <td>2020-02-10</td>\n      <td>3</td>\n      <td>59500510</td>\n      <td>0.000640</td>\n      <td>0</td>\n      <td>0</td>\n      <td>1</td>\n      <td>0.01</td>\n    </tr>\n    <tr>\n      <th>1</th>\n      <td>Anhui</td>\n      <td>China</td>\n      <td>31.8257</td>\n      <td>117.2264</td>\n      <td>2020-02-11</td>\n      <td>4</td>\n      <td>59500510</td>\n      <td>0.000853</td>\n      <td>1</td>\n      <td>0</td>\n      <td>1</td>\n      <td>0.01</td>\n    </tr>\n    <tr>\n      <th>2</th>\n      <td>Anhui</td>\n      <td>China</td>\n      <td>31.8257</td>\n      <td>117.2264</td>\n      <td>2020-02-12</td>\n      <td>4</td>\n      <td>59500510</td>\n      <td>0.000853</td>\n      <td>2</td>\n      <td>0</td>\n      <td>1</td>\n      <td>0.01</td>\n    </tr>\n    <tr>\n      <th>3</th>\n      <td>Anhui</td>\n      <td>China</td>\n      <td>31.8257</td>\n      <td>117.2264</td>\n      <td>2020-02-13</td>\n      <td>5</td>\n      <td>59500510</td>\n      <td>0.001066</td>\n      <td>3</td>\n      <td>0</td>\n      <td>1</td>\n      <td>0.01</td>\n    </tr>\n    <tr>\n      <th>4</th>\n      <td>Anhui</td>\n      <td>China</td>\n      <td>31.8257</td>\n      <td>117.2264</td>\n      <td>2020-02-14</td>\n      <td>6</td>\n      <td>59500510</td>\n      <td>0.001279</td>\n      <td>4</td>\n      <td>0</td>\n      <td>1</td>\n      <td>0.01</td>\n    </tr>\n  </tbody>\n</table>\n</div>"
     },
     "metadata": {},
     "execution_count": 73
    }
   ],
   "source": [
    "self.df.head()"
   ]
  },
  {
   "cell_type": "code",
   "execution_count": 23,
   "metadata": {},
   "outputs": [
    {
     "output_type": "execute_result",
     "data": {
      "text/plain": "'day'"
     },
     "metadata": {},
     "execution_count": 23
    }
   ],
   "source": [
    "self.col_t"
   ]
  },
  {
   "cell_type": "code",
   "execution_count": 24,
   "metadata": {},
   "outputs": [
    {
     "output_type": "execute_result",
     "data": {
      "text/plain": "'death_rate'"
     },
     "metadata": {},
     "execution_count": 24
    }
   ],
   "source": [
    "self.col_obs"
   ]
  },
  {
   "cell_type": "code",
   "execution_count": 25,
   "metadata": {},
   "outputs": [
    {
     "output_type": "execute_result",
     "data": {
      "text/plain": "[['one'], ['one', 'social_dist'], ['one']]"
     },
     "metadata": {},
     "execution_count": 25
    }
   ],
   "source": [
    "self.col_covs"
   ]
  },
  {
   "cell_type": "code",
   "execution_count": 26,
   "metadata": {},
   "outputs": [
    {
     "output_type": "execute_result",
     "data": {
      "text/plain": "'state'"
     },
     "metadata": {},
     "execution_count": 26
    }
   ],
   "source": [
    "self.col_group"
   ]
  },
  {
   "cell_type": "code",
   "execution_count": 27,
   "metadata": {},
   "outputs": [
    {
     "output_type": "execute_result",
     "data": {
      "text/plain": "array(['alpha', 'beta', 'p'], dtype='<U5')"
     },
     "metadata": {},
     "execution_count": 27
    }
   ],
   "source": [
    "self.param_names"
   ]
  },
  {
   "cell_type": "code",
   "execution_count": 28,
   "metadata": {},
   "outputs": [
    {
     "output_type": "execute_result",
     "data": {
      "text/plain": "[<function __main__.exp_fun(x)>,\n <function __main__.identity_fun(x)>,\n <function __main__.exp_fun(x)>]"
     },
     "metadata": {},
     "execution_count": 28
    }
   ],
   "source": [
    "self.link_fun"
   ]
  },
  {
   "cell_type": "code",
   "execution_count": 29,
   "metadata": {},
   "outputs": [
    {
     "output_type": "execute_result",
     "data": {
      "text/plain": "[<function __main__.identity_fun(x)>,\n <function __main__.identity_fun(x)>,\n <function __main__.identity_fun(x)>,\n <function __main__.identity_fun(x)>]"
     },
     "metadata": {},
     "execution_count": 29
    }
   ],
   "source": [
    "self.var_link_fun"
   ]
  },
  {
   "cell_type": "code",
   "execution_count": 31,
   "metadata": {},
   "outputs": [
    {
     "output_type": "stream",
     "text": "\u001b[1;31mSignature:\u001b[0m \u001b[0mself\u001b[0m\u001b[1;33m.\u001b[0m\u001b[0mfun\u001b[0m\u001b[1;33m(\u001b[0m\u001b[0mt\u001b[0m\u001b[1;33m,\u001b[0m \u001b[0mparams\u001b[0m\u001b[1;33m)\u001b[0m\u001b[1;33m\u001b[0m\u001b[1;33m\u001b[0m\u001b[0m\n\u001b[1;31mDocstring:\u001b[0m <no docstring>\n\u001b[1;31mSource:\u001b[0m   \n\u001b[1;32mdef\u001b[0m \u001b[0mgeneralized_error_function\u001b[0m\u001b[1;33m(\u001b[0m\u001b[0mt\u001b[0m\u001b[1;33m,\u001b[0m \u001b[0mparams\u001b[0m\u001b[1;33m)\u001b[0m \u001b[1;33m:\u001b[0m\u001b[1;33m\n\u001b[0m    \u001b[0malpha\u001b[0m \u001b[1;33m=\u001b[0m \u001b[0mparams\u001b[0m\u001b[1;33m[\u001b[0m\u001b[1;36m0\u001b[0m\u001b[1;33m]\u001b[0m\u001b[1;33m\n\u001b[0m    \u001b[0mbeta\u001b[0m  \u001b[1;33m=\u001b[0m \u001b[0mparams\u001b[0m\u001b[1;33m[\u001b[0m\u001b[1;36m1\u001b[0m\u001b[1;33m]\u001b[0m\u001b[1;33m\n\u001b[0m    \u001b[0mp\u001b[0m     \u001b[1;33m=\u001b[0m \u001b[0mparams\u001b[0m\u001b[1;33m[\u001b[0m\u001b[1;36m2\u001b[0m\u001b[1;33m]\u001b[0m\u001b[1;33m\n\u001b[0m    \u001b[1;32mreturn\u001b[0m \u001b[1;36m0.5\u001b[0m \u001b[1;33m*\u001b[0m \u001b[0mp\u001b[0m \u001b[1;33m*\u001b[0m \u001b[1;33m(\u001b[0m \u001b[1;36m1.0\u001b[0m \u001b[1;33m+\u001b[0m \u001b[0mscipy\u001b[0m\u001b[1;33m.\u001b[0m\u001b[0mspecial\u001b[0m\u001b[1;33m.\u001b[0m\u001b[0merf\u001b[0m\u001b[1;33m(\u001b[0m \u001b[0malpha\u001b[0m \u001b[1;33m*\u001b[0m \u001b[1;33m(\u001b[0m \u001b[0mt\u001b[0m \u001b[1;33m-\u001b[0m \u001b[0mbeta\u001b[0m \u001b[1;33m)\u001b[0m \u001b[1;33m)\u001b[0m \u001b[1;33m)\u001b[0m\u001b[1;33m\u001b[0m\u001b[1;33m\u001b[0m\u001b[0m\n\u001b[1;31mFile:\u001b[0m      c:\\rhuang\\workspace\\python\\curvefit\\example\\<ipython-input-15-cf4c26df37aa>\n\u001b[1;31mType:\u001b[0m      function\n",
     "metadata": {},
     "execution_count": 31
    }
   ],
   "source": [
    "??self.fun"
   ]
  },
  {
   "cell_type": "code",
   "execution_count": 33,
   "metadata": {},
   "outputs": [
    {
     "output_type": "stream",
     "text": "\u001b[1;31mSignature:\u001b[0m \u001b[0mself\u001b[0m\u001b[1;33m.\u001b[0m\u001b[0mloss_fun\u001b[0m\u001b[1;33m(\u001b[0m\u001b[0mx\u001b[0m\u001b[1;33m)\u001b[0m\u001b[1;33m\u001b[0m\u001b[1;33m\u001b[0m\u001b[0m\n\u001b[1;31mDocstring:\u001b[0m <no docstring>\n\u001b[1;31mSource:\u001b[0m   \n\u001b[1;32mdef\u001b[0m \u001b[0mnormal_loss\u001b[0m\u001b[1;33m(\u001b[0m\u001b[0mx\u001b[0m\u001b[1;33m)\u001b[0m\u001b[1;33m:\u001b[0m\u001b[1;33m\n\u001b[0m    \u001b[1;32mreturn\u001b[0m \u001b[1;36m0.5\u001b[0m\u001b[1;33m*\u001b[0m\u001b[0msum\u001b[0m\u001b[1;33m(\u001b[0m\u001b[0mx\u001b[0m\u001b[1;33m**\u001b[0m\u001b[1;36m2\u001b[0m\u001b[1;33m)\u001b[0m\u001b[1;33m\u001b[0m\u001b[1;33m\u001b[0m\u001b[0m\n\u001b[1;31mFile:\u001b[0m      c:\\rhuang\\workspace\\python\\curvefit\\env\\lib\\site-packages\\curvefit\\core\\functions.py\n\u001b[1;31mType:\u001b[0m      function\n",
     "metadata": {},
     "execution_count": 33
    }
   ],
   "source": [
    "??self.loss_fun"
   ]
  },
  {
   "cell_type": "code",
   "execution_count": 34,
   "metadata": {},
   "outputs": [],
   "source": [
    "self.col_obs_se"
   ]
  },
  {
   "cell_type": "code",
   "execution_count": 35,
   "metadata": {},
   "outputs": [
    {
     "output_type": "execute_result",
     "data": {
      "text/plain": "'death_rate_std'"
     },
     "metadata": {},
     "execution_count": 35
    }
   ],
   "source": [
    "col_obs_se"
   ]
  },
  {
   "cell_type": "code",
   "execution_count": 37,
   "metadata": {},
   "outputs": [
    {
     "output_type": "execute_result",
     "data": {
      "text/plain": "5"
     },
     "metadata": {},
     "execution_count": 37
    }
   ],
   "source": [
    "len(self.group_names)"
   ]
  },
  {
   "cell_type": "code",
   "execution_count": 38,
   "metadata": {},
   "outputs": [
    {
     "output_type": "execute_result",
     "data": {
      "text/plain": "294"
     },
     "metadata": {},
     "execution_count": 38
    }
   ],
   "source": [
    "self.num_obs"
   ]
  },
  {
   "cell_type": "code",
   "execution_count": 39,
   "metadata": {},
   "outputs": [
    {
     "output_type": "execute_result",
     "data": {
      "text/plain": "3"
     },
     "metadata": {},
     "execution_count": 39
    }
   ],
   "source": [
    "self.num_params"
   ]
  },
  {
   "cell_type": "code",
   "execution_count": 40,
   "metadata": {},
   "outputs": [
    {
     "output_type": "execute_result",
     "data": {
      "text/plain": "5"
     },
     "metadata": {},
     "execution_count": 40
    }
   ],
   "source": [
    "self.num_groups"
   ]
  },
  {
   "cell_type": "code",
   "execution_count": 46,
   "metadata": {},
   "outputs": [
    {
     "output_type": "execute_result",
     "data": {
      "text/plain": "('state', 'day')"
     },
     "metadata": {},
     "execution_count": 46
    }
   ],
   "source": [
    "self.col_group, self.col_t"
   ]
  },
  {
   "cell_type": "code",
   "execution_count": 48,
   "metadata": {},
   "outputs": [
    {
     "output_type": "execute_result",
     "data": {
      "text/plain": "array([0.20491953, 0.20491953, 0.20491953, 0.20491953, 0.20491953])"
     },
     "metadata": {},
     "execution_count": 48
    }
   ],
   "source": [
    "self.obs_se[:5]"
   ]
  },
  {
   "cell_type": "code",
   "execution_count": 49,
   "metadata": {},
   "outputs": [
    {
     "output_type": "execute_result",
     "data": {
      "text/plain": "'death_rate_std'"
     },
     "metadata": {},
     "execution_count": 49
    }
   ],
   "source": [
    "col_obs_se"
   ]
  },
  {
   "cell_type": "code",
   "execution_count": 50,
   "metadata": {},
   "outputs": [
    {
     "output_type": "execute_result",
     "data": {
      "text/plain": "array([0.20491953])"
     },
     "metadata": {},
     "execution_count": 50
    }
   ],
   "source": [
    "np.unique(self.obs_se)"
   ]
  },
  {
   "cell_type": "code",
   "execution_count": 51,
   "metadata": {},
   "outputs": [
    {
     "output_type": "execute_result",
     "data": {
      "text/plain": "     state country      lat      long        date  value  population  \\\n0  Beijing   China  40.1824  116.4142  2020-02-28      7    19612368   \n1  Beijing   China  40.1824  116.4142  2020-02-29      8    19612368   \n2  Beijing   China  40.1824  116.4142  2020-03-01      8    19612368   \n3  Beijing   China  40.1824  116.4142  2020-03-02      8    19612368   \n4  Beijing   China  40.1824  116.4142  2020-03-03      8    19612368   \n\n     lockdown  death_rate  day  social_dist  one  \n0  2020-01-23    0.006341    0            0    1  \n1  2020-01-23    0.007246    1            0    1  \n2  2020-01-23    0.007246    2            0    1  \n3  2020-01-23    0.007246    3            0    1  \n4  2020-01-23    0.007246    4            0    1  ",
      "text/html": "<div>\n<style scoped>\n    .dataframe tbody tr th:only-of-type {\n        vertical-align: middle;\n    }\n\n    .dataframe tbody tr th {\n        vertical-align: top;\n    }\n\n    .dataframe thead th {\n        text-align: right;\n    }\n</style>\n<table border=\"1\" class=\"dataframe\">\n  <thead>\n    <tr style=\"text-align: right;\">\n      <th></th>\n      <th>state</th>\n      <th>country</th>\n      <th>lat</th>\n      <th>long</th>\n      <th>date</th>\n      <th>value</th>\n      <th>population</th>\n      <th>lockdown</th>\n      <th>death_rate</th>\n      <th>day</th>\n      <th>social_dist</th>\n      <th>one</th>\n    </tr>\n  </thead>\n  <tbody>\n    <tr>\n      <th>0</th>\n      <td>Beijing</td>\n      <td>China</td>\n      <td>40.1824</td>\n      <td>116.4142</td>\n      <td>2020-02-28</td>\n      <td>7</td>\n      <td>19612368</td>\n      <td>2020-01-23</td>\n      <td>0.006341</td>\n      <td>0</td>\n      <td>0</td>\n      <td>1</td>\n    </tr>\n    <tr>\n      <th>1</th>\n      <td>Beijing</td>\n      <td>China</td>\n      <td>40.1824</td>\n      <td>116.4142</td>\n      <td>2020-02-29</td>\n      <td>8</td>\n      <td>19612368</td>\n      <td>2020-01-23</td>\n      <td>0.007246</td>\n      <td>1</td>\n      <td>0</td>\n      <td>1</td>\n    </tr>\n    <tr>\n      <th>2</th>\n      <td>Beijing</td>\n      <td>China</td>\n      <td>40.1824</td>\n      <td>116.4142</td>\n      <td>2020-03-01</td>\n      <td>8</td>\n      <td>19612368</td>\n      <td>2020-01-23</td>\n      <td>0.007246</td>\n      <td>2</td>\n      <td>0</td>\n      <td>1</td>\n    </tr>\n    <tr>\n      <th>3</th>\n      <td>Beijing</td>\n      <td>China</td>\n      <td>40.1824</td>\n      <td>116.4142</td>\n      <td>2020-03-02</td>\n      <td>8</td>\n      <td>19612368</td>\n      <td>2020-01-23</td>\n      <td>0.007246</td>\n      <td>3</td>\n      <td>0</td>\n      <td>1</td>\n    </tr>\n    <tr>\n      <th>4</th>\n      <td>Beijing</td>\n      <td>China</td>\n      <td>40.1824</td>\n      <td>116.4142</td>\n      <td>2020-03-03</td>\n      <td>8</td>\n      <td>19612368</td>\n      <td>2020-01-23</td>\n      <td>0.007246</td>\n      <td>4</td>\n      <td>0</td>\n      <td>1</td>\n    </tr>\n  </tbody>\n</table>\n</div>"
     },
     "metadata": {},
     "execution_count": 51
    }
   ],
   "source": [
    "self.df.head()"
   ]
  },
  {
   "cell_type": "code",
   "execution_count": 57,
   "metadata": {},
   "outputs": [
    {
     "output_type": "execute_result",
     "data": {
      "text/plain": "'death_rate_std'"
     },
     "metadata": {},
     "execution_count": 57
    }
   ],
   "source": [
    "col_obs_se"
   ]
  },
  {
   "cell_type": "code",
   "execution_count": 56,
   "metadata": {},
   "outputs": [
    {
     "output_type": "error",
     "ename": "KeyError",
     "evalue": "'death_rate_std'",
     "traceback": [
      "\u001b[1;31m---------------------------------------------------------------------------\u001b[0m",
      "\u001b[1;31mKeyError\u001b[0m                                  Traceback (most recent call last)",
      "\u001b[1;32mc:\\rhuang\\workspace\\Python\\CurveFit\\env\\lib\\site-packages\\pandas\\core\\indexes\\base.py\u001b[0m in \u001b[0;36mget_loc\u001b[1;34m(self, key, method, tolerance)\u001b[0m\n\u001b[0;32m   2645\u001b[0m             \u001b[1;32mtry\u001b[0m\u001b[1;33m:\u001b[0m\u001b[1;33m\u001b[0m\u001b[1;33m\u001b[0m\u001b[0m\n\u001b[1;32m-> 2646\u001b[1;33m                 \u001b[1;32mreturn\u001b[0m \u001b[0mself\u001b[0m\u001b[1;33m.\u001b[0m\u001b[0m_engine\u001b[0m\u001b[1;33m.\u001b[0m\u001b[0mget_loc\u001b[0m\u001b[1;33m(\u001b[0m\u001b[0mkey\u001b[0m\u001b[1;33m)\u001b[0m\u001b[1;33m\u001b[0m\u001b[1;33m\u001b[0m\u001b[0m\n\u001b[0m\u001b[0;32m   2647\u001b[0m             \u001b[1;32mexcept\u001b[0m \u001b[0mKeyError\u001b[0m\u001b[1;33m:\u001b[0m\u001b[1;33m\u001b[0m\u001b[1;33m\u001b[0m\u001b[0m\n",
      "\u001b[1;32mpandas\\_libs\\index.pyx\u001b[0m in \u001b[0;36mpandas._libs.index.IndexEngine.get_loc\u001b[1;34m()\u001b[0m\n",
      "\u001b[1;32mpandas\\_libs\\index.pyx\u001b[0m in \u001b[0;36mpandas._libs.index.IndexEngine.get_loc\u001b[1;34m()\u001b[0m\n",
      "\u001b[1;32mpandas\\_libs\\hashtable_class_helper.pxi\u001b[0m in \u001b[0;36mpandas._libs.hashtable.PyObjectHashTable.get_item\u001b[1;34m()\u001b[0m\n",
      "\u001b[1;32mpandas\\_libs\\hashtable_class_helper.pxi\u001b[0m in \u001b[0;36mpandas._libs.hashtable.PyObjectHashTable.get_item\u001b[1;34m()\u001b[0m\n",
      "\u001b[1;31mKeyError\u001b[0m: 'death_rate_std'",
      "\nDuring handling of the above exception, another exception occurred:\n",
      "\u001b[1;31mKeyError\u001b[0m                                  Traceback (most recent call last)",
      "\u001b[1;32m<ipython-input-56-0a327b5ec552>\u001b[0m in \u001b[0;36m<module>\u001b[1;34m\u001b[0m\n\u001b[1;32m----> 1\u001b[1;33m \u001b[0mself\u001b[0m\u001b[1;33m.\u001b[0m\u001b[0mdf\u001b[0m\u001b[1;33m[\u001b[0m\u001b[0mcol_obs_se\u001b[0m\u001b[1;33m]\u001b[0m\u001b[1;33m.\u001b[0m\u001b[0mvalues\u001b[0m\u001b[1;33m\u001b[0m\u001b[1;33m\u001b[0m\u001b[0m\n\u001b[0m",
      "\u001b[1;32mc:\\rhuang\\workspace\\Python\\CurveFit\\env\\lib\\site-packages\\pandas\\core\\frame.py\u001b[0m in \u001b[0;36m__getitem__\u001b[1;34m(self, key)\u001b[0m\n\u001b[0;32m   2798\u001b[0m             \u001b[1;32mif\u001b[0m \u001b[0mself\u001b[0m\u001b[1;33m.\u001b[0m\u001b[0mcolumns\u001b[0m\u001b[1;33m.\u001b[0m\u001b[0mnlevels\u001b[0m \u001b[1;33m>\u001b[0m \u001b[1;36m1\u001b[0m\u001b[1;33m:\u001b[0m\u001b[1;33m\u001b[0m\u001b[1;33m\u001b[0m\u001b[0m\n\u001b[0;32m   2799\u001b[0m                 \u001b[1;32mreturn\u001b[0m \u001b[0mself\u001b[0m\u001b[1;33m.\u001b[0m\u001b[0m_getitem_multilevel\u001b[0m\u001b[1;33m(\u001b[0m\u001b[0mkey\u001b[0m\u001b[1;33m)\u001b[0m\u001b[1;33m\u001b[0m\u001b[1;33m\u001b[0m\u001b[0m\n\u001b[1;32m-> 2800\u001b[1;33m             \u001b[0mindexer\u001b[0m \u001b[1;33m=\u001b[0m \u001b[0mself\u001b[0m\u001b[1;33m.\u001b[0m\u001b[0mcolumns\u001b[0m\u001b[1;33m.\u001b[0m\u001b[0mget_loc\u001b[0m\u001b[1;33m(\u001b[0m\u001b[0mkey\u001b[0m\u001b[1;33m)\u001b[0m\u001b[1;33m\u001b[0m\u001b[1;33m\u001b[0m\u001b[0m\n\u001b[0m\u001b[0;32m   2801\u001b[0m             \u001b[1;32mif\u001b[0m \u001b[0mis_integer\u001b[0m\u001b[1;33m(\u001b[0m\u001b[0mindexer\u001b[0m\u001b[1;33m)\u001b[0m\u001b[1;33m:\u001b[0m\u001b[1;33m\u001b[0m\u001b[1;33m\u001b[0m\u001b[0m\n\u001b[0;32m   2802\u001b[0m                 \u001b[0mindexer\u001b[0m \u001b[1;33m=\u001b[0m \u001b[1;33m[\u001b[0m\u001b[0mindexer\u001b[0m\u001b[1;33m]\u001b[0m\u001b[1;33m\u001b[0m\u001b[1;33m\u001b[0m\u001b[0m\n",
      "\u001b[1;32mc:\\rhuang\\workspace\\Python\\CurveFit\\env\\lib\\site-packages\\pandas\\core\\indexes\\base.py\u001b[0m in \u001b[0;36mget_loc\u001b[1;34m(self, key, method, tolerance)\u001b[0m\n\u001b[0;32m   2646\u001b[0m                 \u001b[1;32mreturn\u001b[0m \u001b[0mself\u001b[0m\u001b[1;33m.\u001b[0m\u001b[0m_engine\u001b[0m\u001b[1;33m.\u001b[0m\u001b[0mget_loc\u001b[0m\u001b[1;33m(\u001b[0m\u001b[0mkey\u001b[0m\u001b[1;33m)\u001b[0m\u001b[1;33m\u001b[0m\u001b[1;33m\u001b[0m\u001b[0m\n\u001b[0;32m   2647\u001b[0m             \u001b[1;32mexcept\u001b[0m \u001b[0mKeyError\u001b[0m\u001b[1;33m:\u001b[0m\u001b[1;33m\u001b[0m\u001b[1;33m\u001b[0m\u001b[0m\n\u001b[1;32m-> 2648\u001b[1;33m                 \u001b[1;32mreturn\u001b[0m \u001b[0mself\u001b[0m\u001b[1;33m.\u001b[0m\u001b[0m_engine\u001b[0m\u001b[1;33m.\u001b[0m\u001b[0mget_loc\u001b[0m\u001b[1;33m(\u001b[0m\u001b[0mself\u001b[0m\u001b[1;33m.\u001b[0m\u001b[0m_maybe_cast_indexer\u001b[0m\u001b[1;33m(\u001b[0m\u001b[0mkey\u001b[0m\u001b[1;33m)\u001b[0m\u001b[1;33m)\u001b[0m\u001b[1;33m\u001b[0m\u001b[1;33m\u001b[0m\u001b[0m\n\u001b[0m\u001b[0;32m   2649\u001b[0m         \u001b[0mindexer\u001b[0m \u001b[1;33m=\u001b[0m \u001b[0mself\u001b[0m\u001b[1;33m.\u001b[0m\u001b[0mget_indexer\u001b[0m\u001b[1;33m(\u001b[0m\u001b[1;33m[\u001b[0m\u001b[0mkey\u001b[0m\u001b[1;33m]\u001b[0m\u001b[1;33m,\u001b[0m \u001b[0mmethod\u001b[0m\u001b[1;33m=\u001b[0m\u001b[0mmethod\u001b[0m\u001b[1;33m,\u001b[0m \u001b[0mtolerance\u001b[0m\u001b[1;33m=\u001b[0m\u001b[0mtolerance\u001b[0m\u001b[1;33m)\u001b[0m\u001b[1;33m\u001b[0m\u001b[1;33m\u001b[0m\u001b[0m\n\u001b[0;32m   2650\u001b[0m         \u001b[1;32mif\u001b[0m \u001b[0mindexer\u001b[0m\u001b[1;33m.\u001b[0m\u001b[0mndim\u001b[0m \u001b[1;33m>\u001b[0m \u001b[1;36m1\u001b[0m \u001b[1;32mor\u001b[0m \u001b[0mindexer\u001b[0m\u001b[1;33m.\u001b[0m\u001b[0msize\u001b[0m \u001b[1;33m>\u001b[0m \u001b[1;36m1\u001b[0m\u001b[1;33m:\u001b[0m\u001b[1;33m\u001b[0m\u001b[1;33m\u001b[0m\u001b[0m\n",
      "\u001b[1;32mpandas\\_libs\\index.pyx\u001b[0m in \u001b[0;36mpandas._libs.index.IndexEngine.get_loc\u001b[1;34m()\u001b[0m\n",
      "\u001b[1;32mpandas\\_libs\\index.pyx\u001b[0m in \u001b[0;36mpandas._libs.index.IndexEngine.get_loc\u001b[1;34m()\u001b[0m\n",
      "\u001b[1;32mpandas\\_libs\\hashtable_class_helper.pxi\u001b[0m in \u001b[0;36mpandas._libs.hashtable.PyObjectHashTable.get_item\u001b[1;34m()\u001b[0m\n",
      "\u001b[1;32mpandas\\_libs\\hashtable_class_helper.pxi\u001b[0m in \u001b[0;36mpandas._libs.hashtable.PyObjectHashTable.get_item\u001b[1;34m()\u001b[0m\n",
      "\u001b[1;31mKeyError\u001b[0m: 'death_rate_std'"
     ]
    }
   ],
   "source": [
    "self.df[col_obs_se].values"
   ]
  },
  {
   "cell_type": "code",
   "execution_count": null,
   "metadata": {},
   "outputs": [],
   "source": []
  },
  {
   "cell_type": "code",
   "execution_count": null,
   "metadata": {},
   "outputs": [],
   "source": []
  },
  {
   "cell_type": "code",
   "execution_count": null,
   "metadata": {},
   "outputs": [],
   "source": []
  },
  {
   "cell_type": "markdown",
   "metadata": {},
   "source": [
    "self.num_params"
   ]
  },
  {
   "cell_type": "code",
   "execution_count": null,
   "metadata": {},
   "outputs": [],
   "source": [
    "\n",
    "\n",
    "\n",
    "# sort the dataframe by group\n",
    "self.df.sort_values([self.col_group, self.col_t], inplace=True)\n",
    "\n",
    "# extracting information\n",
    " = self.df[self.col_obs].values\n",
    "self.obs_se = np.ones(self.num_obs) if self.col_obs_se is None else \\\n",
    "    self.df[col_obs_se].values\n",
    "\n",
    "self.scale_obs_se = scale_obs_se\n",
    "if self.scale_obs_se:\n",
    "    self.obs_se *= np.abs(self.obs).mean()/self.obs_se.mean()\n",
    "\n",
    "self.t = self.df[self.col_t].values\n",
    "self.group = self.df[self.col_group].values\n",
    "self.covs = [\n",
    "    df[name].values\n",
    "    for name in self.col_covs\n",
    "]\n",
    "self.fe_sizes = np.array([\n",
    "    cov.shape[1]\n",
    "    for cov in self.covs\n",
    "])\n",
    "self.fe_idx = utils.sizes_to_indices(self.fe_sizes)\n",
    "self.num_fe = self.fe_sizes.sum()\n",
    "self.num_re = self.num_groups*self.num_fe\n",
    "\n",
    "# parameter information\n",
    "self.param_idx = {\n",
    "    name: i\n",
    "    for i, name in enumerate(self.param_names)\n",
    "}\n",
    "\n",
    "# group information\n",
    "self.group_sizes = {\n",
    "    name: np.sum(self.group == name)\n",
    "    for name in self.group_names\n",
    "}\n",
    "self.order_group_sizes = np.array([\n",
    "    self.group_sizes[name]\n",
    "    for name in self.group_names\n",
    "])\n",
    "self.order_group_idx = np.cumsum(self.order_group_sizes) - 1\n",
    "group_idx = utils.sizes_to_indices(np.array([\n",
    "    self.group_sizes[name]\n",
    "    for name in self.group_names\n",
    "]))\n",
    "self.group_idx = {\n",
    "    name: group_idx[i]\n",
    "    for i, name in enumerate(self.group_names)\n",
    "}\n",
    "\n",
    "# place holder\n",
    "self.param_shared = []\n",
    "self.result = None\n",
    "self.params = None\n",
    "self.fe_gprior = np.array([[0.0, np.inf]]*self.num_fe)\n",
    "self.re_gprior = np.array([[0.0, np.inf]]*self.num_fe)\n",
    "self.fun_gprior = None"
   ]
  },
  {
   "cell_type": "code",
   "execution_count": null,
   "metadata": {},
   "outputs": [],
   "source": [
    "# input data\n",
    "\n",
    "\n",
    "def unzip_x(self, x):\n",
    "    \"\"\"Unzip raw input to fixed effects and random effects.\n",
    "\n",
    "    Args:\n",
    "        x (numpy.ndarray):\n",
    "            Array contains all the fixed and random effects.\n",
    "\n",
    "    Returns:\n",
    "        fe (numpy.ndarray): fixed effects.\n",
    "        re (numpy.ndarray): random effects.\n",
    "    \"\"\"\n",
    "    fe = x[:self.num_fe]\n",
    "    re = x[self.num_fe:].reshape(self.num_groups, self.num_fe)\n",
    "    return fe, re\n",
    "\n",
    "def compute_params(self, x, expand=True):\n",
    "    \"\"\"Compute parameters from raw vector.\n",
    "\n",
    "    Args:\n",
    "        x (numpy.ndarray):\n",
    "            Array contains all the fixed and random effects.\n",
    "        expand (bool, optional):\n",
    "            If `expand` is `True`, then create parameters for every\n",
    "            observation, else only create parameters for each group.\n",
    "\n",
    "    Returns:\n",
    "        params (numpy.ndarray):\n",
    "            Array of parameters for the curve functional form, with shape\n",
    "            (num_params, num_obs) or (num_params, num_groups).\n",
    "    \"\"\"\n",
    "    fe, re = self.unzip_x(x)\n",
    "    covs = self.covs\n",
    "    if expand:\n",
    "        re = np.repeat(re, self.order_group_sizes, axis=0)\n",
    "    else:\n",
    "        covs = [\n",
    "            self.covs[i][self.order_group_idx, :]\n",
    "            for i in range(len(self.covs))\n",
    "        ]\n",
    "    var = fe + re\n",
    "    for i in range(self.num_fe):\n",
    "        var[:, i] = self.var_link_fun[i](var[:, i])\n",
    "    params = np.vstack([\n",
    "        np.sum(cov*var[:, self.fe_idx[i]], axis=1)\n",
    "        for i, cov in enumerate(covs)\n",
    "    ])\n",
    "\n",
    "    for i in range(self.num_params):\n",
    "        params[i] = self.link_fun[i](params[i])\n",
    "\n",
    "    return params\n",
    "\n",
    "def objective(self, x):\n",
    "    \"\"\"Objective function.\n",
    "\n",
    "    Args:\n",
    "        x (numpy.ndarray):\n",
    "            Model parameters.\n",
    "\n",
    "    Returns:\n",
    "        float:\n",
    "            Objective value.\n",
    "    \"\"\"\n",
    "    fe, re = self.unzip_x(x)\n",
    "    params = self.compute_params(x)\n",
    "    residual = (self.obs - self.fun(self.t, params))/self.obs_se\n",
    "    # val = 0.5*np.sum(residual**2)\n",
    "    val = self.loss_fun(residual)\n",
    "    # gprior from fixed effects\n",
    "    val += 0.5*np.sum(\n",
    "        (fe - self.fe_gprior.T[0])**2/self.fe_gprior.T[1]**2\n",
    "    )\n",
    "    # gprior from random effects\n",
    "    val += 0.5*np.sum(\n",
    "        (re - self.re_gprior.T[0])**2/self.re_gprior.T[1]**2\n",
    "    )\n",
    "    # other functional gprior\n",
    "    if self.fun_gprior is not None:\n",
    "        params = self.compute_params(x, expand=False)\n",
    "        val += 0.5*np.sum(\n",
    "            (self.fun_gprior[0](params) - self.fun_gprior[1][0])**2/\n",
    "            self.fun_gprior[1][1]**2\n",
    "        )\n",
    "    return val\n",
    "\n",
    "def gradient(self, x, eps=1e-16):\n",
    "    \"\"\"Gradient function.\n",
    "\n",
    "    Args:\n",
    "        x (numpy.ndarray):\n",
    "            Model parameters.\n",
    "        eps (float, optional):\n",
    "            Tolerance for automatic differentiation.\n",
    "\n",
    "    Returns:\n",
    "        numpy.ndarray:\n",
    "            Gradient w.r.t. the model parameters.\n",
    "    \"\"\"\n",
    "    finfo = np.finfo(float)\n",
    "    step  = finfo.tiny / finfo.eps\n",
    "    x_c = x + 0j\n",
    "    grad = np.zeros(x.size)\n",
    "    for i in range(x.size):\n",
    "        x_c[i] += step*1j\n",
    "        grad[i] = self.objective(x_c).imag/step\n",
    "        x_c[i] -= step*1j\n",
    "\n",
    "    return grad\n",
    "\n",
    "def fit_params(self,\n",
    "                fe_init,\n",
    "                re_init=None,\n",
    "                fe_bounds=None,\n",
    "                re_bounds=None,\n",
    "                fe_gprior=None,\n",
    "                re_gprior=None,\n",
    "                fun_gprior=None,\n",
    "                fixed_params=None,\n",
    "                smart_initialize=False,\n",
    "                fixed_params_initialize=None,\n",
    "                options=None,\n",
    "                smart_init_options=None):\n",
    "    \"\"\"Fit the parameters.\n",
    "\n",
    "    Args:\n",
    "        fe_init (numpy.ndarray):\n",
    "            Initial value for the fixed effects.\n",
    "        re_init (numpy.ndarray, optional):\n",
    "            Initial value for the random effects.\n",
    "        fe_bounds (list of lists, optional):\n",
    "            Bounds for fixed effects.\n",
    "        re_bounds (list of lists, optional):\n",
    "            Bounds for random effects.\n",
    "        fe_gprior (list of lists, optional):\n",
    "            Gaussian prior for fixed effects.\n",
    "        re_gprior (list of lists, optional):\n",
    "            Gaussian prior for random effects.\n",
    "        fun_gprior (list of lists, optional):\n",
    "            Functional Gaussian prior.\n",
    "        fixed_params (list{str}, optional):\n",
    "            A list of parameter names that will be fixed at initial value.\n",
    "        smart_initialize (bool, optional):\n",
    "            Whether or not to initialize a model's fixed effects based\n",
    "            on the average fixed effects across many individual models\n",
    "            fit with the same settings and the random effects\n",
    "            based on the fixed effects deviation from the average\n",
    "            in the individual models\n",
    "        fixed_params_initialize (list{str}, optional):\n",
    "            A list of parameter names that will be fixed at initial value during the smart initialization.\n",
    "            Will be ignored if smart_initialize = False and raise warning.\n",
    "        options (dict, optional):\n",
    "            Options for the optimizer.\n",
    "        smart_init_options (dict, optional):\n",
    "            Options for the inner model\n",
    "    \"\"\"\n",
    "    assert len(fe_init) == self.num_fe\n",
    "    if fe_bounds is None:\n",
    "        fe_bounds = [[-np.inf, np.inf]]*self.num_fe\n",
    "    if re_bounds is None:\n",
    "        re_bounds = [[-np.inf, np.inf]]*self.num_fe\n",
    "    assert len(fe_bounds) == self.num_fe\n",
    "    assert len(re_bounds) == self.num_fe\n",
    "\n",
    "    if fe_gprior is not None:\n",
    "        assert len(fe_gprior) == self.num_fe\n",
    "        self.fe_gprior = np.array(fe_gprior)\n",
    "    if re_gprior is not None:\n",
    "        assert len(re_gprior) == self.num_fe\n",
    "        self.re_gprior = np.array(re_gprior)\n",
    "    if re_init is None:\n",
    "        re_init = np.zeros(self.num_re)\n",
    "\n",
    "    if fun_gprior is not None:\n",
    "        assert len(fun_gprior) == 2\n",
    "        assert fun_gprior[1][1] > 0.0\n",
    "\n",
    "    self.fun_gprior = fun_gprior\n",
    "\n",
    "    if fixed_params_initialize is not None:\n",
    "        if not smart_initialize:\n",
    "            raise Warning(f\"You passed in an initialization parameter \"\n",
    "                            f\"fixed_params_initialize {fixed_params_initialize} \"\n",
    "                            f\"but set smart_initialize=False. Will ignore fixed_params_initialize.\")\n",
    "\n",
    "    if smart_init_options is not None:\n",
    "        if options is None:\n",
    "            raise RuntimeError(\"Need to pass in options if you pass in smart init options.\")\n",
    "\n",
    "    if smart_initialize:\n",
    "        smart_initialize_options = deepcopy(options)\n",
    "        if smart_init_options is not None:\n",
    "            smart_initialize_options.update(smart_init_options)\n",
    "        if self.num_groups == 1:\n",
    "            raise RuntimeError(\"Don't do initialization for models with only one group.\")\n",
    "\n",
    "        fe_dict = get_initial_params(\n",
    "            groups=self.group_names,\n",
    "            model=self,\n",
    "            fit_arg_dict=dict(\n",
    "                fe_init=fe_init,\n",
    "                fe_bounds=fe_bounds,\n",
    "                fe_gprior=fe_gprior,\n",
    "                fixed_params=fixed_params_initialize,\n",
    "                options=smart_initialize_options,\n",
    "            )\n",
    "        )\n",
    "        fe_init, re_init = compute_starting_params(fe_dict)\n",
    "        print(f\"Overriding fe_init with {fe_init}.\")\n",
    "        print(f\"Overriding re_init with {re_init}.\")\n",
    "\n",
    "    x0 = np.hstack([fe_init, re_init])\n",
    "    if fe_bounds is None:\n",
    "        fe_bounds = np.array([[-np.inf, np.inf]]*self.num_fe)\n",
    "    if re_bounds is None:\n",
    "        re_bounds = np.array([[-np.inf, np.inf]]*self.num_fe)\n",
    "\n",
    "    fe_bounds = np.array(fe_bounds)\n",
    "    re_bounds = np.array(re_bounds)\n",
    "\n",
    "    if fixed_params is not None:\n",
    "        for param in fixed_params:\n",
    "            param_id = self.param_idx[param]\n",
    "            fe_bounds[param_id] = x0[param_id, None]\n",
    "            re_bounds[param_id] = 0.0\n",
    "\n",
    "    re_bounds = np.repeat(re_bounds[None, :, :], self.num_groups, axis=0)\n",
    "    bounds = np.vstack([fe_bounds,\n",
    "                        re_bounds.reshape(self.num_re, 2)])\n",
    "\n",
    "    result = minimize(\n",
    "        fun=self.objective,\n",
    "        x0=x0,\n",
    "        jac=self.gradient,\n",
    "        method='L-BFGS-B',\n",
    "        bounds=bounds,\n",
    "        options=options\n",
    "    )\n",
    "\n",
    "    self.result = result\n",
    "    self.params = self.compute_params(self.result.x, expand=False)\n",
    "\n",
    "def compute_rmse(self, x=None, use_obs_se=True):\n",
    "    \"\"\"Compute the Root Mean Squre Error.\n",
    "\n",
    "    Args:\n",
    "        x (numpy.ndarray | None, optional):\n",
    "            Provided solution array, if None use the object solution.\n",
    "        use_obs_se (bool, optional):\n",
    "            If True include the observation standard deviation into the\n",
    "            calculation.\n",
    "\n",
    "    Returns:\n",
    "        float: root mean square error.\n",
    "    \"\"\"\n",
    "    if x is None:\n",
    "        assert self.result is not None\n",
    "        x = self.result.x\n",
    "\n",
    "    params = self.compute_params(x)\n",
    "    residual = self.obs - self.fun(self.t, params)\n",
    "\n",
    "    if use_obs_se:\n",
    "        return np.sqrt(np.sum(residual**2/self.obs_se**2)/\n",
    "                        np.sum(1.0/self.obs_se**2))\n",
    "    else:\n",
    "        return np.sqrt(np.mean(residual**2))\n",
    "\n",
    "def predict(self, t, group_name='all', prediction_functional_form=None):\n",
    "    \"\"\"Predict the observation by given independent variable and group name.\n",
    "\n",
    "    Args:\n",
    "        t (numpy.ndarray):\n",
    "            Array of independent variable.\n",
    "        group_name (dtype(group_names) | str, optional):\n",
    "            If all will produce average curve and if specific group name\n",
    "            will produce curve for the group.\n",
    "        prediction_functional_form (function):\n",
    "            One of the functions from curvefit.functions\n",
    "            Needs to have the same parameters as self.fun\n",
    "\n",
    "    Returns:\n",
    "        numpy.ndarray:\n",
    "            Array record the curve.\n",
    "    \"\"\"\n",
    "    if group_name == 'all':\n",
    "        params = self.params.mean(axis=1)\n",
    "    else:\n",
    "        params = self.params[:, np.where(self.group_names == group_name)[0][0]]\n",
    "\n",
    "    if prediction_functional_form is None:\n",
    "        fun = self.fun\n",
    "    else:\n",
    "        fun = prediction_functional_form\n",
    "\n",
    "    return fun(t, params)\n",
    "\n",
    "def estimate_obs_se(self, radius=3.0, se_floor=0.5):\n",
    "    \"\"\"Estimate the observation standard error.\n",
    "\n",
    "    Args:\n",
    "        radius (float, optional):\n",
    "            Radius group to estimate standard error.\n",
    "        se_floor (float, optional):\n",
    "            When the standard error is low use this instead.\n",
    "\n",
    "    Returns:\n",
    "        numpy.ndarray:\n",
    "            Vector that contains all the standard error for each\n",
    "            observation.\n",
    "    \"\"\"\n",
    "    residual = self.obs - self.fun(self.t, self.params)\n",
    "    residual = [\n",
    "        residual[self.group_idx[name]]\n",
    "        for name in self.group_names\n",
    "    ]\n",
    "    obs_se = []\n",
    "    for j, name in enumerate(self.group_names):\n",
    "        sub_residual = residual[j]\n",
    "        sub_t = self.t[self.group_idx[name]]\n",
    "        sub_obs_se = np.zeros(self.group_sizes[name])\n",
    "        for i in range(self.group_sizes[name]):\n",
    "            lb = max(0, sub_t[i] - radius)\n",
    "            ub = min(sub_t.max(), sub_t[i] + radius)\n",
    "            lb_idx = np.arange(self.group_sizes[name])[sub_t >= lb][0]\n",
    "            ub_idx = np.arange(self.group_sizes[name])[sub_t <= ub][-1]\n",
    "            sub_obs_se[i] = max(se_floor,\n",
    "                                np.std(sub_residual[lb_idx:ub_idx]))\n",
    "        obs_se.append(sub_obs_se)\n",
    "    return np.hstack(obs_se)\n",
    "\n",
    "def get_self_model_kwargs(self):\n",
    "    \"\"\"\n",
    "    Gets keyword arguments for a CurveModel\n",
    "    based on this instance of the CurveModel\n",
    "\n",
    "    Returns:\n",
    "        (dict) kwargs for model from self\n",
    "    \"\"\"\n",
    "    return dict(\n",
    "        col_t=self.col_t,\n",
    "        col_obs=self.col_obs,\n",
    "        col_covs=self.col_covs,\n",
    "        col_obs_se=self.col_obs_se,\n",
    "        col_group=self.col_group,\n",
    "        param_names=self.param_names,\n",
    "        link_fun=self.link_fun,\n",
    "        var_link_fun=self.var_link_fun,\n",
    "        fun=self.fun\n",
    "    )\n",
    "\n",
    "def run_one_group_model(self, group, **fit_kwargs):\n",
    "    \"\"\"\n",
    "    Run the exact model as self but instantiate it as a new model\n",
    "    so that we can run it on a subset of the data defined by the group (no random effects).\n",
    "    Used for smart initialization of fixed and random effects.\n",
    "\n",
    "    Args:\n",
    "        group: (str) the random effect group to include\n",
    "        in this model.\n",
    "\n",
    "    Returns:\n",
    "        np.array of fixed effects for this single group\n",
    "    \"\"\"\n",
    "    df_sub = self.df.loc[self.df[self.col_group] == group].copy()\n",
    "    model_kwargs = self.get_self_model_kwargs()\n",
    "    model = CurveModel(df=df_sub, **model_kwargs)\n",
    "    fit_dict = deepcopy(fit_kwargs)\n",
    "    fit_dict.update(dict(\n",
    "        re_bounds=[[0.0, 0.0] for i in range(model.num_fe)],\n",
    "        smart_initialize=False\n",
    "    ))\n",
    "    model.fit_params(**fit_dict)\n",
    "    return model.result.x[:self.num_fe]\n"
   ]
  }
 ]
}